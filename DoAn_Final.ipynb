{
 "cells": [
  {
   "cell_type": "code",
   "execution_count": 1,
   "metadata": {},
   "outputs": [],
   "source": [
    "import numpy as np \n",
    "import pandas as pd \n",
    "import re\n",
    "import nltk\n",
    "from pyvi import ViTokenizer \n",
    "\n",
    "from flask import Flask, render_template, request, redirect"
   ]
  },
  {
   "cell_type": "code",
   "execution_count": 2,
   "metadata": {},
   "outputs": [],
   "source": [
    "app= Flask(__name__,template_folder='../template')"
   ]
  },
  {
   "cell_type": "code",
   "execution_count": 3,
   "metadata": {},
   "outputs": [],
   "source": [
    "data_source_url = 'C:/Users/justf/desktop/comment.csv'\n",
    "df = pd.read_csv(data_source_url)\n",
    "comments = df.iloc[:, 0].values\n",
    "labels = df.iloc[:,4].values"
   ]
  },
  {
   "cell_type": "code",
   "execution_count": 4,
   "metadata": {},
   "outputs": [],
   "source": [
    "from string import punctuation\n",
    "stop_word = []\n",
    "f= open(\"C:/Users/justf/Desktop/stop_word.txt\",encoding=\"utf-8\")\n",
    "text = f.read()"
   ]
  },
  {
   "cell_type": "code",
   "execution_count": 5,
   "metadata": {},
   "outputs": [],
   "source": [
    "for word in text.split() :\n",
    "      stop_word.append(word)\n",
    "f.close()"
   ]
  },
  {
   "cell_type": "code",
   "execution_count": 6,
   "metadata": {},
   "outputs": [],
   "source": [
    "punc = list(punctuation)\n",
    "stop_word = stop_word + punc"
   ]
  },
  {
   "cell_type": "code",
   "execution_count": 7,
   "metadata": {},
   "outputs": [],
   "source": [
    "processed_comments = []\n",
    "\n",
    "for sentence in range(0, len(comments)):\n",
    "    # Remove all the special characters\n",
    "    processed_comment = re.sub(r'\\W', ' ', str(comments[sentence]))\n",
    "\n",
    "    # remove all single characters\n",
    "    processed_comment= re.sub(r'\\s+[a-zA-Z]\\s+', ' ', processed_comment)\n",
    "\n",
    "    # Remove single characters from the start\n",
    "    processed_comment = re.sub(r'\\^[a-zA-Z]\\s+', ' ', processed_comment) \n",
    "\n",
    "    # Substituting multiple spaces with single space\n",
    "    processed_comment = re.sub(r'\\s+', ' ', processed_comment, flags=re.I)\n",
    "\n",
    "    # Removing prefixed 'b'\n",
    "    processed_comment = re.sub(r'^b\\s+', '', processed_comment)\n",
    "\n",
    "    # Converting to Lowercase\n",
    "    processed_comment = processed_comment.lower()\n",
    "\n",
    "    processed_comments.append(processed_comment)"
   ]
  },
  {
   "cell_type": "code",
   "execution_count": 8,
   "metadata": {},
   "outputs": [],
   "source": [
    "sentences = []\n",
    "for commenthuy in processed_comments:\n",
    "    sent = []\n",
    "    for word in commenthuy.split(\" \") :\n",
    "        if (word not in stop_word) :\n",
    "            if (\"_\" in word) or (word.isalpha() == True):\n",
    "                sent.append(word)\n",
    "    sentences.append(\" \".join(sent))"
   ]
  },
  {
   "cell_type": "code",
   "execution_count": 9,
   "metadata": {},
   "outputs": [],
   "source": [
    "from sklearn.feature_extraction.text import TfidfVectorizer\n",
    "vectorizer = TfidfVectorizer (max_features=3900, min_df=5, max_df=0.8)"
   ]
  },
  {
   "cell_type": "code",
   "execution_count": 10,
   "metadata": {},
   "outputs": [],
   "source": [
    "vectorizer.fit(sentences)\n",
    "X = vectorizer.transform(sentences).toarray()"
   ]
  },
  {
   "cell_type": "code",
   "execution_count": 11,
   "metadata": {},
   "outputs": [],
   "source": [
    "from sklearn.model_selection import train_test_split\n",
    "\n",
    "X_train, X_test, y_train, y_test = train_test_split(X, labels, test_size=0.3, random_state=0)"
   ]
  },
  {
   "cell_type": "code",
   "execution_count": 12,
   "metadata": {},
   "outputs": [
    {
     "name": "stdout",
     "output_type": "stream",
     "text": [
      "              precision    recall  f1-score   support\n",
      "\n",
      "           n       0.79      0.78      0.78       587\n",
      "           p       0.78      0.79      0.78       583\n",
      "\n",
      "    accuracy                           0.78      1170\n",
      "   macro avg       0.78      0.78      0.78      1170\n",
      "weighted avg       0.78      0.78      0.78      1170\n",
      "\n",
      "0.782051282051282\n"
     ]
    }
   ],
   "source": [
    "from sklearn.ensemble import RandomForestClassifier\n",
    "from sklearn.metrics import classification_report\n",
    "from sklearn.metrics import accuracy_score\n",
    "model = RandomForestClassifier()\n",
    "model.fit(X_train,y_train)\n",
    "y_pre = model.predict(X_test)\n",
    "print(classification_report(y_test,y_pre))\n",
    "print(accuracy_score(y_test, y_pre))"
   ]
  },
  {
   "cell_type": "code",
   "execution_count": 13,
   "metadata": {},
   "outputs": [
    {
     "name": "stdout",
     "output_type": "stream",
     "text": [
      "              precision    recall  f1-score   support\n",
      "\n",
      "           n       0.79      0.82      0.81       587\n",
      "           p       0.81      0.79      0.80       583\n",
      "\n",
      "    accuracy                           0.80      1170\n",
      "   macro avg       0.80      0.80      0.80      1170\n",
      "weighted avg       0.80      0.80      0.80      1170\n",
      "\n",
      "0.8025641025641026\n"
     ]
    }
   ],
   "source": [
    "from sklearn.linear_model import LogisticRegression\n",
    "from sklearn.metrics import classification_report\n",
    "model1 = LogisticRegression()\n",
    "model1.fit(X_train,y_train)\n",
    "y_pre1 = model1.predict(X_test)\n",
    "print(classification_report(y_test,y_pre1))\n",
    "print(accuracy_score(y_test, y_pre1))"
   ]
  },
  {
   "cell_type": "code",
   "execution_count": 14,
   "metadata": {},
   "outputs": [
    {
     "name": "stdout",
     "output_type": "stream",
     "text": [
      "['thầy thiện lung_linh quá', 'máy chạy giật lag', 'ngon quá']\n"
     ]
    }
   ],
   "source": [
    "text2=[\"Thầy Thiện lung linh quá \",\"Máy chạy giật lag\",\"Ngon quá\"]\n",
    "text2_token = []\n",
    "for sentence1 in text2:\n",
    "     # Remove all the special characters\n",
    "    processed_text2 = re.sub(r'\\W', ' ', str(sentence1))\n",
    "\n",
    "    # remove all single characters\n",
    "    processed_text2= re.sub(r'\\s+[a-zA-Z]\\s+', ' ', processed_text2)\n",
    "\n",
    "    # Remove single characters from the start\n",
    "    processed_text2 = re.sub(r'\\^[a-zA-Z]\\s+', ' ', processed_text2) \n",
    "\n",
    "    # Substituting multiple spaces with single space\n",
    "    processed_text2 = re.sub(r'\\s+', ' ', processed_text2, flags=re.I)\n",
    "\n",
    "    # Removing prefixed 'b'\n",
    "    processed_text2 = re.sub(r'^b\\s+', '', processed_text2)\n",
    "\n",
    "    # Converting to Lowercase\n",
    "    processed_text2 = processed_text2.lower()\n",
    "    test_token = ViTokenizer.tokenize(processed_text2)\n",
    "    text2_token.append(test_token)\n",
    "print(text2_token)"
   ]
  },
  {
   "cell_type": "code",
   "execution_count": 15,
   "metadata": {},
   "outputs": [
    {
     "name": "stdout",
     "output_type": "stream",
     "text": [
      "['thầy thiện lung_linh quá', 'máy chạy giật lag', 'ngon quá']\n"
     ]
    }
   ],
   "source": [
    "sentences_text2 = []\n",
    "for commenthuy1 in text2_token:\n",
    "    sent1 = []\n",
    "    for word1 in commenthuy1.split(\" \") :\n",
    "        if (word1 not in stop_word) :\n",
    "            if (\"_\" in word1) or (word1.isalpha() == True):\n",
    "                sent1.append(word1)\n",
    "    sentences_text2.append(\" \".join(sent1))\n",
    "print(sentences_text2)"
   ]
  },
  {
   "cell_type": "code",
   "execution_count": 16,
   "metadata": {},
   "outputs": [
    {
     "name": "stdout",
     "output_type": "stream",
     "text": [
      "['p' 'n' 'p']\n"
     ]
    }
   ],
   "source": [
    "test1 = vectorizer.transform(sentences_text2)\n",
    "print(model.predict(test1))"
   ]
  },
  {
   "cell_type": "code",
   "execution_count": 17,
   "metadata": {},
   "outputs": [],
   "source": [
    "@app.route('/', methods=['GET', 'POST'])\n",
    "def index():\n",
    "    if request.method == 'POST':\n",
    "        sentences = []\n",
    "        sentence = request.form['sentiment']\n",
    "        sentences.append(sentence)\n",
    "        text3_token = []\n",
    "        for sentence2 in sentences:\n",
    "            processed_text3 = (sentence2)\n",
    "            processed_text3= re.sub(r'\\s+[a-zA-Z]\\s+', ' ', processed_text3)\n",
    "            processed_text3 = re.sub(r'\\^[a-zA-Z]\\s+', ' ', processed_text3)\n",
    "            processed_text3 = re.sub(r'\\s+', ' ', processed_text3, flags=re.I)\n",
    "            processed_text3 = re.sub(r'^b\\s+', '', processed_text3)\n",
    "            processed_text3 = processed_text3.lower()\n",
    "            test_token2 = ViTokenizer.tokenize(processed_text3)\n",
    "            text3_token.append(test_token2)\n",
    "        sentences_text3 = []\n",
    "        for commenthuy2 in text3_token:\n",
    "            sent3 = []\n",
    "            for word3 in commenthuy2.split(\" \") :\n",
    "                if (word3 not in stop_word) :\n",
    "                    if (\"_\" in word3) or (word3.isalpha() == True):\n",
    "                        sent3.append(word3)\n",
    "            sentences_text3.append(\" \".join(sent3))\n",
    "        sentence_vector = vectorizer.transform(sentences_text3)\n",
    "        output = model.predict(sentence_vector)\n",
    "        result = None\n",
    "        if str(output) == '[\\'n\\']':\n",
    "            result = 'Negative'\n",
    "        if str(output) == '[\\'p\\']':\n",
    "            result = 'Positive'\n",
    "        if str(output) == '[\\'p\\']' and (\"không\" in output)==true:\n",
    "            result = 'Negative'\n",
    "        return render_template('sentiment.html', output=result)\n",
    "    return render_template('sentiment.html')"
   ]
  },
  {
   "cell_type": "code",
   "execution_count": 24,
   "metadata": {},
   "outputs": [
    {
     "name": "stdout",
     "output_type": "stream",
     "text": [
      "              precision    recall  f1-score   support\n",
      "\n",
      "           n       0.79      0.83      0.81       587\n",
      "           p       0.82      0.78      0.80       583\n",
      "\n",
      "    accuracy                           0.80      1170\n",
      "   macro avg       0.80      0.80      0.80      1170\n",
      "weighted avg       0.80      0.80      0.80      1170\n",
      "\n",
      "0.8034188034188035\n"
     ]
    }
   ],
   "source": [
    "from sklearn.svm import SVC\n",
    "model2 = SVC(kernel='rbf')\n",
    "model2.fit(X_train,y_train)\n",
    "y_pre2 = model2.predict(X_test)\n",
    "print(classification_report(y_test,y_pre2))\n",
    "print(accuracy_score(y_test, y_pre2))"
   ]
  },
  {
   "cell_type": "code",
   "execution_count": 19,
   "metadata": {},
   "outputs": [
    {
     "name": "stdout",
     "output_type": "stream",
     "text": [
      "              precision    recall  f1-score   support\n",
      "\n",
      "           n       0.82      0.05      0.10       587\n",
      "           p       0.51      0.99      0.67       583\n",
      "\n",
      "    accuracy                           0.52      1170\n",
      "   macro avg       0.66      0.52      0.39      1170\n",
      "weighted avg       0.66      0.52      0.38      1170\n",
      "\n",
      "0.5188034188034188\n"
     ]
    }
   ],
   "source": [
    "from sklearn.neighbors import KNeighborsClassifier\n",
    "model3 = KNeighborsClassifier(n_neighbors=5)\n",
    "model3.fit(X_train,y_train)\n",
    "y_pre3 = model3.predict(X_test)\n",
    "print(classification_report(y_test,y_pre3))\n",
    "print(accuracy_score(y_test, y_pre3))"
   ]
  },
  {
   "cell_type": "code",
   "execution_count": null,
   "metadata": {},
   "outputs": [],
   "source": []
  },
  {
   "cell_type": "code",
   "execution_count": null,
   "metadata": {},
   "outputs": [],
   "source": []
  }
 ],
 "metadata": {
  "kernelspec": {
   "display_name": "Python 3",
   "language": "python",
   "name": "python3"
  },
  "language_info": {
   "codemirror_mode": {
    "name": "ipython",
    "version": 3
   },
   "file_extension": ".py",
   "mimetype": "text/x-python",
   "name": "python",
   "nbconvert_exporter": "python",
   "pygments_lexer": "ipython3",
   "version": "3.7.6"
  }
 },
 "nbformat": 4,
 "nbformat_minor": 4
}
